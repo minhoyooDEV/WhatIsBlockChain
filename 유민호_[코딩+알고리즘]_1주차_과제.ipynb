{
  "nbformat": 4,
  "nbformat_minor": 0,
  "metadata": {
    "colab": {
      "name": "유민호 - [코딩+알고리즘] 1주차_과제.ipynb",
      "provenance": [],
      "collapsed_sections": [],
      "include_colab_link": true
    },
    "kernelspec": {
      "display_name": "Python 3",
      "language": "python",
      "name": "python3"
    },
    "language_info": {
      "codemirror_mode": {
        "name": "ipython",
        "version": 3
      },
      "file_extension": ".py",
      "mimetype": "text/x-python",
      "name": "python",
      "nbconvert_exporter": "python",
      "pygments_lexer": "ipython3",
      "version": "3.8.5"
    }
  },
  "cells": [
    {
      "cell_type": "markdown",
      "metadata": {
        "id": "view-in-github",
        "colab_type": "text"
      },
      "source": [
        "<a href=\"https://colab.research.google.com/github/minhoyooDEV/WhatIsBlockChain/blob/master/%EC%9C%A0%EB%AF%BC%ED%98%B8_%5B%EC%BD%94%EB%94%A9%2B%EC%95%8C%EA%B3%A0%EB%A6%AC%EC%A6%98%5D_1%EC%A3%BC%EC%B0%A8_%E1%84%80%E1%85%AA%E1%84%8C%E1%85%A6.ipynb\" target=\"_parent\"><img src=\"https://colab.research.google.com/assets/colab-badge.svg\" alt=\"Open In Colab\"/></a>"
      ]
    },
    {
      "cell_type": "markdown",
      "metadata": {
        "id": "wS0WJ3F9SoRp"
      },
      "source": [
        "# 1주차 과제 공지사항\n",
        "\n",
        "----\n",
        "\n",
        "1. 아래의 과제를 보고 코드를 작성하시면 됩니다.\n",
        "2. 멘토님께서 과제에 대한 코드를 실행한 후에 정량적/정성적으로 평가가 됩니다.\n",
        "3. 멘토님께서는 과제평가에 대한 체크리스트를 작성한 뒤에 객관적으로 코드에 대한 평가를 할 예정입니다.\n",
        "4. 과제에 대한 점수는 100점 만점으로 진행이 됩니다.\n",
        "5. 퀴즈 및 과제에 대한 평가는 모든 수강생들의 평가가 완료되면 확인할 수 있습니다. 참고부탁드립니다.\n",
        "6. 퀴즈 및 과제기한은 11월 1일(일) 저녁 10시 까지 입니다. 10시 이후에는 코드작성이 불가하오니 이 점 참고부탁드립니다.\n",
        "7. 미션통과 대상자의 경우, 평균 2주차 말 / 3주차 초에 미션환급액이 입금이 될 예정입니다. 참고부탁드립니다.\n",
        "8. 반드시 코드 작성란에만 코드를 작성하시고, 그 외에는 절대로 내용을 수정하지 마세요.\n",
        "9. 작성란에 작성된 코드가 동작하는지 반드시 확인하세요. 코드가 동작하지 않으면 0점처리됩니다.\n",
        "10. 과제의 채점 시 입력은 달라질 수 있습니다. 다른 입력에도 동작할 수 있는 코드를 작성해 주세요.\n",
        "11. ***예시 입출력이 주어진 경우, 최소한 예시 입력에 대해 출력이 정상적으로 이루어져야 점수가 주어집니다. 예시 입력에 대해 동작시키는 것은 과제 제출의 최소 조건입니다.***\n",
        "12. ***예시 입력에 대해 출력이 정상적으로 되더라도, 코드의 내용이 적합하지 않은 경우 감점이 이루어집니다.***\n",
        "\n",
        "----"
      ]
    },
    {
      "cell_type": "markdown",
      "metadata": {
        "id": "O4MMgk1OTzmH"
      },
      "source": [
        "----\n",
        "\n",
        "## 종합 점수 (/100)\n",
        "\n",
        "----"
      ]
    },
    {
      "cell_type": "markdown",
      "metadata": {
        "id": "JoFcF8ljTR6p"
      },
      "source": [
        "## 과제1.\n",
        "\n",
        "----\n",
        "반복문과 조건문을 이용하여, 다음과 같은 출력이 나오도록 프로그램을 작성하시오.\n",
        "\n",
        "출력:\n",
        "```\n",
        "*\n",
        "**\n",
        "****\n",
        "*****\n",
        "*******\n",
        "********\n",
        "```\n",
        "----"
      ]
    },
    {
      "cell_type": "code",
      "metadata": {
        "id": "MpNgU-Ftq8Oh",
        "colab": {
          "base_uri": "https://localhost:8080/"
        },
        "outputId": "cd3fd378-f703-44ed-ddf2-9785fef18dc9"
      },
      "source": [
        "# 과제1번 코드란\n",
        "for x in range(9):\n",
        "  if x%3 == 0:\n",
        "    continue\n",
        "  for y in range(x):\n",
        "    print('*', end='')\n",
        "  print()\n",
        "\n",
        "\n",
        "\n",
        "\n"
      ],
      "execution_count": null,
      "outputs": [
        {
          "output_type": "stream",
          "text": [
            "*\n",
            "**\n",
            "****\n",
            "*****\n",
            "*******\n",
            "********\n"
          ],
          "name": "stdout"
        }
      ]
    },
    {
      "cell_type": "markdown",
      "metadata": {
        "id": "jmayiflbYYW6"
      },
      "source": [
        "## 과제2.\n",
        "\n",
        "----\n",
        "\n",
        "다음은 map함수에 대한 설명이다. map 함수와 lambda 함수를 이용하여, 10진수 숫자가 문자열로 작성된 리스트 a의 각 원소의 값을 1씩 증가시킨 문자열로 변경하는 프로그램을 한 줄의 코드로 작성하시오.\n",
        "\n",
        "- map(func, iter) 함수는 두 개의 입력을 받는다. \n",
        "- 첫 번째 입력 func은 하나의 입력을 받는 함수이며, 반드시 출력이 존재한다. \n",
        "- map 함수는 두 번째 입력 iter를 순회하면서 각 원소 elem을 func의 입력으로 하여, func(elem)을 출력하는 iterative object를 출력한다. \n",
        "- map의 출력은 일회성으로 동작하는 iterative object이며, list() 또는 tuple()을 이용하여 여러번 참조할 수 있도록 변환할 수 있다.\n",
        "\n",
        "```python\n",
        "a = ['0', '1', '2', '3', '4', '5', '6', '7', '8', '9']\n",
        "<이곳에 들어갈 한 줄의 코드를 작성하시오.>\n",
        "print(a)\n",
        "```\n",
        "\n",
        "출력:\n",
        "```python\n",
        "['1', '2', '3', '4', '5', '6', '7', '8', '9', '10']\n",
        "```\n",
        "----"
      ]
    },
    {
      "cell_type": "code",
      "metadata": {
        "id": "bmA6c6EMYY7o",
        "colab": {
          "base_uri": "https://localhost:8080/"
        },
        "outputId": "6d31b0bf-8701-4e3f-d47c-94276217411e"
      },
      "source": [
        "# 과제 2번 코드란\n",
        "\n",
        "list(map(lambda x: str(int(x) + 1), a))\n",
        "\n"
      ],
      "execution_count": null,
      "outputs": [
        {
          "output_type": "stream",
          "text": [
            "['1', '2', '3', '4', '5', '6', '7', '8', '9', '10']\n"
          ],
          "name": "stdout"
        }
      ]
    },
    {
      "cell_type": "markdown",
      "metadata": {
        "id": "fzlpa3FVZpcL"
      },
      "source": [
        "## 과제3.\n",
        "\n",
        "----\n",
        "다음 동작 수행하는 프로그램을 작성하시오. (단, 입력 a의 내용이 아래 예시 입력과 달라져도 프로그램이 동작해야 한다.)\n",
        "\n",
        "- 최대 인원 수가 정해진 방과후 수업에 학생들을 배정하려고 한다. \n",
        "- 학생들은 각자 원하는 스포츠 종목을 적어냈고, 해당 종목들은 리스트 a에 저장되어 있다. \n",
        "- 방과후 수업에는 최대 정원이 있어, 파이썬 프로그램을 이용해 자료를 처리하고자 한다. 각 스포츠 종목별로 지원자의 수를 출력하는 프로그램을 작성하시오.\n",
        "\n",
        "\n",
        "```python\n",
        "a = ['base ball', 'basket ball', 'soccer', 'base ball', 'soccer', 'soccer', 'basket ball', 'base ball', 'basket ball', 'soccer', 'basket ball', 'basket ball', 'base ball', 'soccer', 'soccer', 'basket ball', 'basket ball', 'base ball', 'base ball']\n",
        "\n",
        "```\n",
        "\n",
        "출력:\n",
        "```python\n",
        "basket ball 7\n",
        "base ball 6\n",
        "soccer 6\n",
        "\n",
        "```\n",
        "\n",
        "----"
      ]
    },
    {
      "cell_type": "code",
      "metadata": {
        "id": "pWDpwtNqaPLN",
        "colab": {
          "base_uri": "https://localhost:8080/"
        },
        "outputId": "373730e9-36ee-4248-fb8d-2a14ac9d6ddb"
      },
      "source": [
        "# 과제 3번 코드란\n",
        "a = ['base ball', 'basket ball', 'soccer', 'base ball', 'soccer', 'soccer', 'basket ball', 'base ball', 'basket ball', 'soccer', 'basket ball', 'basket ball', 'base ball', 'soccer', 'soccer', 'basket ball', 'basket ball', 'base ball', 'base ball']\n",
        "\n",
        "d = {}\n",
        "for s in a:\n",
        "  if s in d:\n",
        "    d[s] +=1\n",
        "  else:\n",
        "    d[s] = 1\n",
        "\n",
        "for t in sorted(d.items(), key=lambda x: x[1], reverse = True):\n",
        "  print(t[0], t[1])\n",
        "\n"
      ],
      "execution_count": null,
      "outputs": [
        {
          "output_type": "stream",
          "text": [
            "basket ball 7\n",
            "base ball 6\n",
            "soccer 6\n"
          ],
          "name": "stdout"
        }
      ]
    },
    {
      "cell_type": "markdown",
      "metadata": {
        "id": "pVygrfyBZ-mf"
      },
      "source": [
        "## 과제4.\n",
        "\n",
        "----\n",
        "반복문과 print() 함수를 이용하여 아래와 같은 출력을 하는 프로그램을 구현하시오.\n",
        "\n",
        "출력:\n",
        "```python\n",
        "0 1 2 4 8 16 32 64 128 256 256 256\n",
        "```\n",
        "\n",
        "----"
      ]
    },
    {
      "cell_type": "code",
      "metadata": {
        "id": "kwYofIu2Z-3e",
        "colab": {
          "base_uri": "https://localhost:8080/"
        },
        "outputId": "6719c732-c5d1-402f-9a59-947a40d3ef14"
      },
      "source": [
        "# 과제 4번 코드란\n",
        "print('0', end=' ')\n",
        "for i in range(0, 11):\n",
        "    print(2 ** i if i < 8 else 2 ** 8, end=' ')\n",
        "\n"
      ],
      "execution_count": 46,
      "outputs": [
        {
          "output_type": "stream",
          "text": [
            "0 1 2 4 8 16 32 64 128 256 256 256 "
          ],
          "name": "stdout"
        }
      ]
    },
    {
      "cell_type": "markdown",
      "metadata": {
        "id": "kmzckUxxfWkw"
      },
      "source": [
        "----\n",
        "\n",
        "**수고하셨습니다!**\n",
        "\n",
        "----"
      ]
    },
    {
      "cell_type": "code",
      "metadata": {
        "id": "GNeVv6jV8Bgz"
      },
      "source": [
        ""
      ],
      "execution_count": null,
      "outputs": []
    },
    {
      "cell_type": "markdown",
      "metadata": {
        "id": "tgKiGrOIaU-t"
      },
      "source": [
        "## 과제 피드백 작성란\n",
        "\n",
        "----\n",
        "\n",
        "### 과제1\n",
        "\n",
        "### 과제2\n",
        "\n",
        "### 과제3\n",
        "\n",
        "### 과제4"
      ]
    }
  ]
}